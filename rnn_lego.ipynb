{
 "cells": [
  {
   "cell_type": "code",
   "execution_count": 211,
   "metadata": {},
   "outputs": [],
   "source": [
    "import pandas as pd\n",
    "import numpy as np\n",
    "import seaborn as sns\n",
    "import matplotlib.pyplot as plt\n",
    "import yaml\n",
    "import torch\n",
    "import torchvision\n",
    "import os\n",
    "import pickle"
   ]
  },
  {
   "cell_type": "code",
   "execution_count": 212,
   "metadata": {},
   "outputs": [],
   "source": [
    "data_train_packed = pickle.load(open(\"lego-train.pickle\",'rb'))\n",
    "data_test_packed = pickle.load(open(\"lego-test.pickle\",\"rb\"))\n",
    "\n",
    "data_train = [torch.tensor(x).type(torch.float32).permute(2,0,1) for (x,y) in data_train_packed]\n",
    "labels_train = [torch.tensor(y).type(torch.float32) for (x,y) in data_train_packed]\n",
    "\n",
    "data_test = [torch.tensor(x).type(torch.float32).permute(2,0,1) for (x,y) in data_test_packed]\n",
    "labels_test = [torch.tensor(y).type(torch.float32) for (x,y) in data_test_packed]"
   ]
  },
  {
   "cell_type": "code",
   "execution_count": 213,
   "metadata": {},
   "outputs": [],
   "source": [
    "from datasets import ImageDataset\n",
    "\n",
    "dataset_train = ImageDataset(data_train, torch.tensor(labels_train).reshape(-1,1))\n",
    "dataset_test = ImageDataset(data_test, torch.tensor(labels_test).reshape(-1,1))"
   ]
  },
  {
   "cell_type": "code",
   "execution_count": 214,
   "metadata": {},
   "outputs": [
    {
     "name": "stdout",
     "output_type": "stream",
     "text": [
      "CNN(\n",
      "  (conv1): Conv2d(1, 12, kernel_size=(3, 3), stride=(1, 1))\n",
      "  (maxpool1): MaxPool2d(kernel_size=2, stride=2, padding=0, dilation=1, ceil_mode=False)\n",
      "  (conv2): Conv2d(12, 20, kernel_size=(5, 5), stride=(1, 1))\n",
      "  (maxpool2): MaxPool2d(kernel_size=2, stride=2, padding=0, dilation=1, ceil_mode=False)\n",
      "  (lin1): Linear(in_features=1620, out_features=256, bias=True)\n",
      "  (relu1): ReLU()\n",
      "  (lin2): Linear(in_features=256, out_features=256, bias=True)\n",
      "  (relu2): ReLU()\n",
      "  (relu3): ReLU()\n",
      "  (relu4): ReLU()\n",
      "  (lin3): Linear(in_features=256, out_features=10, bias=True)\n",
      ")\n"
     ]
    }
   ],
   "source": [
    "from models import CNN\n",
    "model = CNN()\n",
    "print(model)"
   ]
  },
  {
   "cell_type": "code",
   "execution_count": 215,
   "metadata": {},
   "outputs": [],
   "source": [
    "x = []\n",
    "y = []"
   ]
  },
  {
   "cell_type": "code",
   "execution_count": 216,
   "metadata": {},
   "outputs": [],
   "source": [
    "optimizer = torch.optim.SGD(model.parameters(), lr=0.01, momentum=0.9)\n",
    "loss_function = torch.nn.CrossEntropyLoss()\n",
    "\n",
    "def train_loop(epochs, dataloader:torch.utils.data.DataLoader):\n",
    "    model.train()\n",
    "    for epoch in range(epochs):\n",
    "        ab_loss = 0\n",
    "        for i, data in enumerate(dataloader, 0):\n",
    "            inputs, labels = data\n",
    "            optimizer.zero_grad()\n",
    "            logits = model(inputs)\n",
    "            loss = loss_function(logits, labels.type(torch.int64).reshape(-1))\n",
    "            loss.backward()\n",
    "            optimizer.step()\n",
    "            ab_loss += loss\n",
    "        x.append(ab_loss.item())\n",
    "        y.append(epoch)\n",
    "        if epoch % 100 == 0:\n",
    "            print(ab_loss)\n",
    "    model.eval()\n",
    "    return(x,y)"
   ]
  },
  {
   "cell_type": "code",
   "execution_count": 217,
   "metadata": {},
   "outputs": [
    {
     "name": "stdout",
     "output_type": "stream",
     "text": [
      "tensor(43.8854, grad_fn=<AddBackward0>)\n"
     ]
    },
    {
     "name": "stdout",
     "output_type": "stream",
     "text": [
      "\n"
     ]
    }
   ],
   "source": [
    "from torch.utils.data import DataLoader\n",
    "\n",
    "dataloader = DataLoader(dataset=dataset_train, batch_size=32, shuffle=True)\n",
    "dataloader_test = DataLoader(dataset=dataset_test, batch_size=len(dataset_test), shuffle=False)\n",
    "\n",
    "train_loop(50, dataloader)\n",
    "print()"
   ]
  },
  {
   "cell_type": "code",
   "execution_count": 218,
   "metadata": {},
   "outputs": [
    {
     "data": {
      "text/plain": [
       "Text(0.5, 0, 'epoch')"
      ]
     },
     "execution_count": 218,
     "metadata": {},
     "output_type": "execute_result"
    },
    {
     "data": {
      "image/png": "[encoded data removed]",
      "text/plain": [
       "<Figure size 640x480 with 1 Axes>"
      ]
     },
     "metadata": {},
     "output_type": "display_data"
    }
   ],
   "source": [
    "plt.plot(np.array(x),np.array(y))\n",
    "plt.ylabel(\"batch loss\")\n",
    "plt.xlabel(\"epoch\")"
   ]
  },
  {
   "cell_type": "code",
   "execution_count": 221,
   "metadata": {},
   "outputs": [],
   "source": [
    "def build_lenet():\n",
    "    def init_weights(m):\n",
    "        if type(m) == torch.nn.Linear:\n",
    "            torch.nn.init.xavier_uniform_(m.weight)\n",
    "            m.bias.data.fill_(0.01)\n",
    "        if type(m) == torch.nn.Conv2d:\n",
    "            torch.nn.init.xavier_uniform_(m.weight)\n",
    "        \n",
    "    net = torch.nn.Sequential(\n",
    "        # Input: 48x48\n",
    "    \n",
    "        torch.nn.Conv2d(1, 6, 5, padding=(2,2)), # out: 48x48x6\n",
    "        torch.nn.ReLU(),\n",
    "        \n",
    "        torch.nn.AvgPool2d(kernel_size=(2,2), stride=(2,2)), # out: 24x24x6\n",
    "        torch.nn.ReLU(),\n",
    "        \n",
    "        torch.nn.Conv2d(6, 16, 5), # out: 20x20x16\n",
    "        torch.nn.ReLU(),\n",
    "\n",
    "        torch.nn.AvgPool2d(kernel_size=(2,2), stride=(2,2)), # out: 10x10x16\n",
    "\n",
    "        torch.nn.Flatten(),\n",
    "        \n",
    "        torch.nn.Linear(10*10*16, 120),\n",
    "        torch.nn.Sigmoid(),\n",
    "        torch.nn.Linear(120, 84),\n",
    "        torch.nn.Sigmoid(),\n",
    "        torch.nn.Linear(84, 10)\n",
    "    )\n",
    "  \n",
    "    net.apply(init_weights)\n",
    "    return net"
   ]
  },
  {
   "cell_type": "code",
   "execution_count": 222,
   "metadata": {},
   "outputs": [
    {
     "name": "stdout",
     "output_type": "stream",
     "text": [
      "Sequential(\n",
      "  (0): Conv2d(1, 6, kernel_size=(5, 5), stride=(1, 1), padding=(2, 2))\n",
      "  (1): ReLU()\n",
      "  (2): AvgPool2d(kernel_size=(2, 2), stride=(2, 2), padding=0)\n",
      "  (3): ReLU()\n",
      "  (4): Conv2d(6, 16, kernel_size=(5, 5), stride=(1, 1))\n",
      "  (5): ReLU()\n",
      "  (6): AvgPool2d(kernel_size=(2, 2), stride=(2, 2), padding=0)\n",
      "  (7): Flatten(start_dim=1, end_dim=-1)\n",
      "  (8): Linear(in_features=1600, out_features=120, bias=True)\n",
      "  (9): Sigmoid()\n",
      "  (10): Linear(in_features=120, out_features=84, bias=True)\n",
      "  (11): Sigmoid()\n",
      "  (12): Linear(in_features=84, out_features=10, bias=True)\n",
      ")\n"
     ]
    }
   ],
   "source": [
    "lenet = build_lenet()\n",
    "print(lenet)"
   ]
  },
  {
   "cell_type": "code",
   "execution_count": 223,
   "metadata": {},
   "outputs": [],
   "source": [
    "def train(net, train_loader, num_epochs, learning_rate):\n",
    "    \n",
    "    optimizer = torch.optim.SGD(net.parameters(), lr=learning_rate, momentum=0.9)\n",
    "    loss_function = torch.nn.CrossEntropyLoss()\n",
    "    acc_history = []\n",
    "    for epoch in range(num_epochs):\n",
    "        running_loss = 0.0\n",
    "        correct = 0\n",
    "        total = 0 \n",
    "            \n",
    "        for batch_num, (inputs, labels) in enumerate(train_loader):\n",
    "            # Possibly copy inputs and labels to the GPU\n",
    "            # batch x [48, 48, 1] -> batch x [1, 48, 48]          \n",
    "            optimizer.zero_grad()\n",
    "\n",
    "            # Forward pass\n",
    "            outputs = net(inputs)\n",
    "            loss = loss_function(outputs, labels.type(torch.int64).reshape(-1))\n",
    "\n",
    "            # Backpropagation                \n",
    "            loss.backward()\n",
    "\n",
    "            # Update\n",
    "            optimizer.step()\n",
    "\n",
    "            # Print progress\n",
    "            running_loss += loss.item()\n",
    "\n",
    "            # Calculate batch Accuracy\n",
    "            _, predicted = outputs.max(1)\n",
    "            batch_total = labels.size(0)\n",
    "            batch_correct = predicted.eq(labels.type(torch.int64).reshape(-1)).sum().item()\n",
    "            batch_acc = batch_correct/batch_total\n",
    "\n",
    "            total += batch_total\n",
    "            correct += batch_correct\n",
    "\n",
    "        # Print the evaluation metric and reset it for the next epoch\n",
    "        acc = correct/total \n",
    "        acc_history.append(acc)\n",
    "\n",
    "    return acc_history"
   ]
  },
  {
   "cell_type": "code",
   "execution_count": 224,
   "metadata": {},
   "outputs": [],
   "source": [
    "hist_lenet = train(lenet, dataloader, 100, 0.001)"
   ]
  },
  {
   "cell_type": "code",
   "execution_count": 225,
   "metadata": {},
   "outputs": [
    {
     "name": "stdout",
     "output_type": "stream",
     "text": [
      "Accuracy of the network on the 150 test images: 58.666666666666664 %\n"
     ]
    }
   ],
   "source": [
    "correct = 0\n",
    "total = 0\n",
    "# since we're not training, we don't need to calculate the gradients for our outputs\n",
    "with torch.no_grad():\n",
    "    for data in dataloader_test:\n",
    "        images, labels = data\n",
    "        labels = labels.type(torch.int64).reshape(-1)\n",
    "        # calculate outputs by running images through the network\n",
    "        outputs = model(images)\n",
    "        # the class with the highest energy is what we choose as prediction\n",
    "        _, predicted = torch.max(outputs.data, 1)\n",
    "        total += labels.size(0)\n",
    "        correct += (predicted == labels).sum().item()\n",
    "\n",
    "print(f'Accuracy of the my model on the {total} test images: {100 * correct / total} %')"
   ]
  },
  {
   "cell_type": "code",
   "execution_count": 226,
   "metadata": {},
   "outputs": [
    {
     "name": "stdout",
     "output_type": "stream",
     "text": [
      "Accuracy of the lenet on the 150 test images: 98.66666666666667 %\n"
     ]
    }
   ],
   "source": [
    "correct = 0\n",
    "total = 0\n",
    "with torch.no_grad():\n",
    "    for data in dataloader_test:\n",
    "        images, labels = data\n",
    "        labels = labels.type(torch.int64).reshape(-1)\n",
    "        outputs = lenet(images)\n",
    "        _, predicted = torch.max(outputs.data, 1)\n",
    "        total += labels.size(0)\n",
    "        correct += (predicted == labels).sum().item()\n",
    "\n",
    "print(f'Accuracy of the lenet on the {total} test images: {100 * correct / total} %')"
   ]
  }
 ],
 "metadata": {
  "kernelspec": {
   "display_name": ".venv",
   "language": "python",
   "name": "python3"
  },
  "language_info": {
   "codemirror_mode": {
    "name": "ipython",
    "version": 3
   },
   "file_extension": ".py",
   "mimetype": "text/x-python",
   "name": "python",
   "nbconvert_exporter": "python",
   "pygments_lexer": "ipython3",
   "version": "3.11.4"
  },
  "orig_nbformat": 4
 },
 "nbformat": 4,
 "nbformat_minor": 2
}
